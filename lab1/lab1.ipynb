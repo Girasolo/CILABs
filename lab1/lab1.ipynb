{
 "cells": [
  {
   "cell_type": "code",
   "execution_count": 43,
   "metadata": {},
   "outputs": [],
   "source": [
    "import logging\n",
    "import random\n",
    "import heapq\n",
    "\n",
    "import numpy\n",
    "import numpy as np\n",
    "from typing import Callable\n",
    "logging.basicConfig(format=\"%(message)s\", level=logging.INFO)"
   ]
  },
  {
   "cell_type": "code",
   "execution_count": 44,
   "metadata": {},
   "outputs": [],
   "source": [
    "class State:\n",
    "    def __init__(self, data: np.ndarray):\n",
    "        self._data = data.copy()\n",
    "        self._data.flags.writeable = False\n",
    "\n",
    "    def __hash__(self):\n",
    "        return hash(bytes(self._data))\n",
    "\n",
    "    def __eq__(self, other):\n",
    "        return bytes(self._data) == bytes(other._data)\n",
    "\n",
    "    def __lt__(self, other):\n",
    "        return bytes(self._data) < bytes(other._data)\n",
    "\n",
    "    def __str__(self):\n",
    "        return str(self._data.tolist())\n",
    "\n",
    "    def __repr__(self):\n",
    "        return repr(self._data)\n",
    "\n",
    "    @property\n",
    "    def data(self):\n",
    "        return self._data\n",
    "\n",
    "    def copy_data(self):\n",
    "        return self._data.copy()\n",
    "\n",
    "class PriorityQueue:\n",
    "    \"\"\"A basic Priority Queue with simple performance optimizations\"\"\"\n",
    "\n",
    "    def __init__(self):\n",
    "        self._data_heap = list()\n",
    "        self._data_set = set()\n",
    "\n",
    "    def __bool__(self):\n",
    "        return bool(self._data_set)\n",
    "\n",
    "    def __contains__(self, item):\n",
    "        return item in self._data_set\n",
    "\n",
    "    def push(self, item, p=None):\n",
    "        assert item not in self, f\"Duplicated element\"\n",
    "        if p is None:\n",
    "            p = len(self._data_set)\n",
    "        self._data_set.add(item)\n",
    "        heapq.heappush(self._data_heap, (p, item))\n",
    "\n",
    "    def pop(self):\n",
    "        p, item = heapq.heappop(self._data_heap)\n",
    "        self._data_set.remove(item)\n",
    "        return item"
   ]
  },
  {
   "cell_type": "code",
   "execution_count": 45,
   "metadata": {},
   "outputs": [],
   "source": [
    "def unit_cost(a):\n",
    "    return len(a)\n",
    "\n",
    "def priority_function(state):\n",
    "    state_list = state.data.tolist()\n",
    "    return sum(len(s) for s in state_list)\n",
    "\n",
    "def possible_blocks(block, state):\n",
    "    pb = block.copy()\n",
    "    for s in state:\n",
    "        pb.remove(s)\n",
    "\n",
    "    return pb\n",
    "\n",
    "def goal_test(state, N):\n",
    "    state_list = state.data.tolist()\n",
    "    # print(state_list)\n",
    "    new_list = set()\n",
    "    for lst in state_list:\n",
    "        for s in lst:\n",
    "            new_list.add(s)\n",
    "    return new_list == set(range(N))"
   ]
  },
  {
   "cell_type": "code",
   "execution_count": 46,
   "metadata": {},
   "outputs": [],
   "source": [
    "def problem(N, seed=42):\n",
    "    random.seed(seed)\n",
    "    blocksNotUnique = [\n",
    "        list(set(random.randint(0, N - 1) for n in range(random.randint(N // 5, N // 2))))\n",
    "        for n in range(random.randint(N, N * 5))\n",
    "    ]\n",
    "    retval = numpy.unique(numpy.array(blocksNotUnique, dtype=object))\n",
    "    return retval.tolist()\n",
    "    # return blocks\n",
    "\n",
    "\n",
    "def define_new_state(state, a):\n",
    "    state.append(a)\n",
    "    return State(np.array(state, dtype=object))"
   ]
  },
  {
   "cell_type": "code",
   "execution_count": 47,
   "metadata": {},
   "outputs": [],
   "source": [
    "def search(\n",
    "    blocks,\n",
    "    initial_state: State,\n",
    "    goal_test: Callable,\n",
    "    parent_state: dict,\n",
    "    state_cost: dict,\n",
    "    priority_function: Callable,\n",
    "    unit_cost: Callable,\n",
    "):\n",
    "    frontier = PriorityQueue()\n",
    "    parent_state.clear()\n",
    "    state_cost.clear()\n",
    "    state = initial_state\n",
    "    parent_state[state] = None\n",
    "    state_cost[state] = 0\n",
    "    while state is not None and not goal_test(state, N):\n",
    "        for a in possible_blocks(blocks, state.data.tolist()):\n",
    "            # print(\"state:\", state)\n",
    "            # print(\"possible blocks:\", possible_blocks(blocks, state.data.tolist()))\n",
    "            new_state = define_new_state(state.data.tolist(), a)\n",
    "            # print(\"new state\", new_state)\n",
    "            cost = unit_cost(a)\n",
    "            if new_state not in state_cost and new_state not in frontier:\n",
    "                parent_state[new_state] = state\n",
    "                state_cost[new_state] = state_cost[state] + cost\n",
    "                frontier.push(new_state, p=priority_function(new_state))\n",
    "                # logging.debug(f\"Added new node to frontier (cost={state_cost[new_state]})\")\n",
    "                # print(f\"Added new node to frontier (cost={state_cost[new_state]})\")\n",
    "            elif new_state in frontier and state_cost[new_state] > state_cost[state] + cost:\n",
    "                old_cost = state_cost[new_state]\n",
    "                parent_state[new_state] = state\n",
    "                state_cost[new_state] = state_cost[state] + cost\n",
    "                # logging.debug(f\"Updated node cost in frontier: {old_cost} -> {state_cost[new_state]}\")\n",
    "                # print(f\"Updated node cost in frontier: {old_cost} -> {state_cost[new_state]}\")\n",
    "        if frontier:\n",
    "            state = frontier.pop()\n",
    "        else:\n",
    "            state = None\n",
    "\n",
    "    path = list()\n",
    "    s = state\n",
    "    while s:\n",
    "        path.append(s.copy_data().tolist())\n",
    "        s = parent_state[s]\n",
    "    # logging.info(f\"Found a solution in {len(path):,} steps; visited {len(state_cost):,} states\")\n",
    "    print(f\"Initial blocks : {blocks}\")\n",
    "    print(f\"Found a solution in {len(path):,} steps; visited {len(state_cost):,} states\")\n",
    "    for k,v in enumerate(reversed(path)):\n",
    "        print(f\"Step {k} : {v}\")\n",
    "    print(f\"Step {len(path) - 1} is Solution\")\n",
    "\n",
    "    return list(reversed(path))"
   ]
  },
  {
   "cell_type": "code",
   "execution_count": 48,
   "outputs": [
    {
     "name": "stdout",
     "output_type": "stream",
     "text": [
      "For N: 5\n",
      "[[0], [0, 1], [0, 2], [1], [1, 3], [2], [2, 3], [2, 4], [3], [4]]\n",
      "Initial blocks : [[0], [1], [2], [3], [4], [0, 1], [0, 2], [1, 3], [2, 3], [2, 4]]\n",
      "Found a solution in 5 steps; visited 3,556 states\n",
      "Step 0 : []\n",
      "Step 1 : [[3]]\n",
      "Step 2 : [[3], [1]]\n",
      "Step 3 : [[3], [1], [0]]\n",
      "Step 4 : [[3], [1], [0], [2, 4]]\n",
      "Step 4 is Solution\n"
     ]
    }
   ],
   "source": [
    "for N in [5]:\n",
    "    parent_state = dict()\n",
    "    state_cost = dict()\n",
    "    blocks = problem(N)\n",
    "    print(f\"For N: {N}\")\n",
    "    print(blocks)\n",
    "    final = search(\n",
    "        sorted(blocks, key=lambda l: len(l)),\n",
    "        State(np.array([])),\n",
    "        goal_test=goal_test,\n",
    "        parent_state=parent_state,\n",
    "        state_cost=state_cost,\n",
    "        priority_function=priority_function,\n",
    "        unit_cost=unit_cost\n",
    "    )"
   ],
   "metadata": {
    "collapsed": false
   }
  },
  {
   "cell_type": "code",
   "execution_count": 48,
   "outputs": [],
   "source": [],
   "metadata": {
    "collapsed": false
   }
  }
 ],
 "metadata": {
  "kernelspec": {
   "display_name": "Python 3.9.6 64-bit",
   "language": "python",
   "name": "python3"
  },
  "language_info": {
   "codemirror_mode": {
    "name": "ipython",
    "version": 3
   },
   "file_extension": ".py",
   "mimetype": "text/x-python",
   "name": "python",
   "nbconvert_exporter": "python",
   "pygments_lexer": "ipython3",
   "version": "3.9.6"
  },
  "orig_nbformat": 4,
  "vscode": {
   "interpreter": {
    "hash": "31f2aee4e71d21fbe5cf8b01ff0e069b9275f58929596ceb00d14d90e3e16cd6"
   }
  }
 },
 "nbformat": 4,
 "nbformat_minor": 2
}
