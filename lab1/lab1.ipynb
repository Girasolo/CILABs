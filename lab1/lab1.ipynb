{
 "cells": [
  {
   "cell_type": "code",
   "execution_count": 17,
   "metadata": {
    "pycharm": {
     "name": "#%%\n"
    }
   },
   "outputs": [],
   "source": [
    "import logging\n",
    "import random\n",
    "import heapq\n",
    "import numpy as np\n",
    "from typing import Callable\n",
    "\n",
    "logging.basicConfig(format=\"%(message)s\", level=logging.INFO)"
   ]
  },
  {
   "cell_type": "code",
   "execution_count": 18,
   "metadata": {
    "pycharm": {
     "name": "#%%\n"
    }
   },
   "outputs": [],
   "source": [
    "class State:\n",
    "    def __init__(self, data: np.ndarray):\n",
    "        self._data = data.copy()\n",
    "        self._data.flags.writeable = False\n",
    "\n",
    "    def __hash__(self):\n",
    "        return hash(bytes(self._data))\n",
    "\n",
    "    def __eq__(self, other):\n",
    "        return bytes(self._data) == bytes(other._data)\n",
    "\n",
    "    def __lt__(self, other):\n",
    "        return bytes(self._data) < bytes(other._data)\n",
    "\n",
    "    def __str__(self):\n",
    "        return str(self._data.tolist())\n",
    "\n",
    "    def __repr__(self):\n",
    "        return repr(self._data)\n",
    "\n",
    "    @property\n",
    "    def data(self):\n",
    "        return self._data\n",
    "\n",
    "    def copy_data(self):\n",
    "        return self._data.copy()\n",
    "\n",
    "class PriorityQueue:\n",
    "    \"\"\"A basic Priority Queue with simple performance optimizations\"\"\"\n",
    "\n",
    "    def __init__(self):\n",
    "        self._data_heap = list()\n",
    "        self._data_set = set()\n",
    "\n",
    "    def __bool__(self):\n",
    "        return bool(self._data_set)\n",
    "\n",
    "    def __contains__(self, item):\n",
    "        return item in self._data_set\n",
    "\n",
    "    def push(self, item, p=None):\n",
    "        assert item not in self, f\"Duplicated element\"\n",
    "        if p is None:\n",
    "            p = len(self._data_set)\n",
    "        self._data_set.add(item)\n",
    "        heapq.heappush(self._data_heap, (p, item))\n",
    "\n",
    "    def pop(self):\n",
    "        p, item = heapq.heappop(self._data_heap)\n",
    "        self._data_set.remove(item)\n",
    "        return item"
   ]
  },
  {
   "cell_type": "code",
   "execution_count": 24,
   "metadata": {
    "pycharm": {
     "name": "#%%\n"
    }
   },
   "outputs": [],
   "source": [
    "def unit_cost(a):\n",
    "    return len(a)\n",
    "\n",
    "def priority_function(state):\n",
    "    state_list = state.data.tolist()\n",
    "    return sum(len(s) for s in state_list)\n",
    "\n",
    "def possible_blocks(block, state):\n",
    "    pb = block.copy()\n",
    "    for s in state:\n",
    "        pb.remove(s)\n",
    "    return pb\n",
    "\n",
    "def goal_test(state, N):\n",
    "    state_list = state.data.tolist()\n",
    "    new_list = set()\n",
    "    for lst in state_list:\n",
    "        for s in lst:\n",
    "            new_list.add(s)\n",
    "    return new_list == set(range(N))\n",
    "\n",
    "def h(state, N):\n",
    "    state_list = state.data.tolist()\n",
    "    new_list = set()\n",
    "    for lst in state_list:\n",
    "            new_list.add(s for s in lst) \n",
    "    return len(range(N)) - len(new_list)\n"
   ]
  },
  {
   "cell_type": "code",
   "execution_count": 25,
   "metadata": {
    "pycharm": {
     "name": "#%%\n"
    }
   },
   "outputs": [],
   "source": [
    "def problem(N, seed=42):\n",
    "    random.seed(seed)\n",
    "    blocksNotUnique = [\n",
    "        list(set(random.randint(0, N - 1) for n in range(random.randint(N // 5, N // 2))))\n",
    "        for n in range(random.randint(N, N * 5))\n",
    "    ]\n",
    "    retval = np.unique(np.array(blocksNotUnique, dtype=object))\n",
    "    return retval.tolist()\n",
    "\n",
    "\n",
    "def define_new_state(state, a):\n",
    "    state.append(a)\n",
    "    return State(np.array(state, dtype=object))"
   ]
  },
  {
   "cell_type": "code",
   "execution_count": 26,
   "metadata": {
    "pycharm": {
     "name": "#%%\n"
    }
   },
   "outputs": [],
   "source": [
    "def search(\n",
    "    blocks,\n",
    "    initial_state: State,\n",
    "    goal_test: Callable,\n",
    "    parent_state: dict,\n",
    "    state_cost: dict,\n",
    "    priority_function: Callable,\n",
    "    unit_cost: Callable,\n",
    "):\n",
    "    frontier = PriorityQueue()\n",
    "    parent_state.clear()\n",
    "    state_cost.clear()\n",
    "    state = initial_state\n",
    "    parent_state[state] = None\n",
    "    state_cost[state] = 0\n",
    "    while state is not None and not goal_test(state, N):\n",
    "        for a in possible_blocks(blocks, state.data.tolist()):\n",
    "            # print(\"state:\", state)\n",
    "            # print(\"possible blocks:\", possible_blocks(blocks, state.data.tolist()))\n",
    "            new_state = define_new_state(state.data.tolist(), a)\n",
    "            # print(\"new state\", new_state)\n",
    "            cost = unit_cost(a)\n",
    "            if new_state not in state_cost and new_state not in frontier:\n",
    "                parent_state[new_state] = state\n",
    "                state_cost[new_state] = state_cost[state] + cost\n",
    "                frontier.push(new_state, p=priority_function(new_state))\n",
    "                # logging.debug(f\"Added new node to frontier (cost={state_cost[new_state]})\")\n",
    "                # print(f\"Added new node to frontier (cost={state_cost[new_state]})\")\n",
    "            elif new_state in frontier and state_cost[new_state] > state_cost[state] + cost:\n",
    "                old_cost = state_cost[new_state]\n",
    "                parent_state[new_state] = state\n",
    "                state_cost[new_state] = state_cost[state] + cost\n",
    "                # logging.debug(f\"Updated node cost in frontier: {old_cost} -> {state_cost[new_state]}\")\n",
    "                # print(f\"Updated node cost in frontier: {old_cost} -> {state_cost[new_state]}\")\n",
    "        if frontier:\n",
    "            state = frontier.pop()\n",
    "        else:\n",
    "            state = None\n",
    "\n",
    "    path = list()\n",
    "    s = state\n",
    "    while s:\n",
    "        path.append(s.copy_data().tolist())\n",
    "        s = parent_state[s]\n",
    "    # logging.info(f\"Found a solution in {len(path):,} steps; visited {len(state_cost):,} states\")\n",
    "    print(f\"Initial blocks : {blocks}\")\n",
    "    print(f\"Found a solution in {len(path):,} steps; visited {len(state_cost):,} states\")\n",
    "    for k,v in enumerate(reversed(path)):\n",
    "        print(f\"Step {k} : {v}\")\n",
    "    print(f\"Step {len(path) - 1} is Solution\")\n",
    "\n",
    "    return list(reversed(path))"
   ]
  },
  {
   "cell_type": "code",
   "execution_count": 27,
   "metadata": {
    "collapsed": false,
    "pycharm": {
     "name": "#%%\n"
    }
   },
   "outputs": [
    {
     "name": "stdout",
     "output_type": "stream",
     "text": [
      "For N: 20\n",
      "[[0, 1, 2, 3, 5, 7, 14, 17], [0, 1, 2, 3, 6, 13, 17, 18], [0, 1, 2, 7], [0, 1, 3, 7, 9, 10, 11, 15], [0, 3, 5, 8, 9, 10, 13, 14, 17], [0, 5, 7, 8, 13, 14, 17, 18], [0, 5, 11, 16, 17], [0, 6, 16, 17, 19], [1, 2, 9, 7], [1, 3, 4, 5], [1, 3, 8, 11, 14, 19], [1, 3, 13, 14], [2, 3, 4, 6, 8, 10], [2, 3, 7, 10, 14, 16], [2, 3, 9, 11, 12, 17, 18, 19], [2, 5, 7, 8, 12, 14, 17, 19], [2, 6, 8, 10, 12, 15, 18], [2, 8, 12, 13, 14, 16, 17, 19], [3, 5, 6, 7, 8, 11, 12, 14], [3, 6, 7, 10, 14, 17], [3, 6, 7, 13, 15], [4, 5, 8, 13, 15, 16, 17, 19], [4, 6, 15, 17, 18], [4, 7, 8, 14, 17, 18], [4, 7, 11, 12, 15, 16, 18], [5, 7, 8, 13, 14], [6, 9, 11, 12, 17], [8, 4, 7], [8, 16, 5], [16, 9, 19, 6], [16, 10, 2, 7], [17, 10, 1, 7], [17, 18, 7], [18, 2, 15]]\n"
     ]
    },
    {
     "ename": "KeyboardInterrupt",
     "evalue": "",
     "output_type": "error",
     "traceback": [
      "\u001b[0;31m---------------------------------------------------------------------------\u001b[0m",
      "\u001b[0;31mKeyboardInterrupt\u001b[0m                         Traceback (most recent call last)",
      "\u001b[1;32m/Users/giuseppeesposito/Desktop/polito/secondo_anno/primo_semestre/computational_Intelligence/CILABs/lab1/lab1.ipynb Cell 6\u001b[0m in \u001b[0;36m<cell line: 3>\u001b[0;34m()\u001b[0m\n\u001b[1;32m      <a href='vscode-notebook-cell:/Users/giuseppeesposito/Desktop/polito/secondo_anno/primo_semestre/computational_Intelligence/CILABs/lab1/lab1.ipynb#X24sZmlsZQ%3D%3D?line=4'>5</a>\u001b[0m \u001b[39mprint\u001b[39m(\u001b[39mf\u001b[39m\u001b[39m\"\u001b[39m\u001b[39mFor N: \u001b[39m\u001b[39m{\u001b[39;00mN\u001b[39m}\u001b[39;00m\u001b[39m\"\u001b[39m)\n\u001b[1;32m      <a href='vscode-notebook-cell:/Users/giuseppeesposito/Desktop/polito/secondo_anno/primo_semestre/computational_Intelligence/CILABs/lab1/lab1.ipynb#X24sZmlsZQ%3D%3D?line=5'>6</a>\u001b[0m \u001b[39mprint\u001b[39m(blocks)\n\u001b[0;32m----> <a href='vscode-notebook-cell:/Users/giuseppeesposito/Desktop/polito/secondo_anno/primo_semestre/computational_Intelligence/CILABs/lab1/lab1.ipynb#X24sZmlsZQ%3D%3D?line=6'>7</a>\u001b[0m final \u001b[39m=\u001b[39m search(\n\u001b[1;32m      <a href='vscode-notebook-cell:/Users/giuseppeesposito/Desktop/polito/secondo_anno/primo_semestre/computational_Intelligence/CILABs/lab1/lab1.ipynb#X24sZmlsZQ%3D%3D?line=7'>8</a>\u001b[0m     \u001b[39msorted\u001b[39;49m(blocks, key\u001b[39m=\u001b[39;49m\u001b[39mlambda\u001b[39;49;00m l: \u001b[39mlen\u001b[39;49m(l)),\n\u001b[1;32m      <a href='vscode-notebook-cell:/Users/giuseppeesposito/Desktop/polito/secondo_anno/primo_semestre/computational_Intelligence/CILABs/lab1/lab1.ipynb#X24sZmlsZQ%3D%3D?line=8'>9</a>\u001b[0m     State(np\u001b[39m.\u001b[39;49marray([])),\n\u001b[1;32m     <a href='vscode-notebook-cell:/Users/giuseppeesposito/Desktop/polito/secondo_anno/primo_semestre/computational_Intelligence/CILABs/lab1/lab1.ipynb#X24sZmlsZQ%3D%3D?line=9'>10</a>\u001b[0m     goal_test\u001b[39m=\u001b[39;49mgoal_test,\n\u001b[1;32m     <a href='vscode-notebook-cell:/Users/giuseppeesposito/Desktop/polito/secondo_anno/primo_semestre/computational_Intelligence/CILABs/lab1/lab1.ipynb#X24sZmlsZQ%3D%3D?line=10'>11</a>\u001b[0m     parent_state\u001b[39m=\u001b[39;49mparent_state,\n\u001b[1;32m     <a href='vscode-notebook-cell:/Users/giuseppeesposito/Desktop/polito/secondo_anno/primo_semestre/computational_Intelligence/CILABs/lab1/lab1.ipynb#X24sZmlsZQ%3D%3D?line=11'>12</a>\u001b[0m     state_cost\u001b[39m=\u001b[39;49mstate_cost,\n\u001b[1;32m     <a href='vscode-notebook-cell:/Users/giuseppeesposito/Desktop/polito/secondo_anno/primo_semestre/computational_Intelligence/CILABs/lab1/lab1.ipynb#X24sZmlsZQ%3D%3D?line=12'>13</a>\u001b[0m     priority_function\u001b[39m=\u001b[39;49m\u001b[39mlambda\u001b[39;49;00m s: state_cost[s] \u001b[39m+\u001b[39;49m h(s, N),\n\u001b[1;32m     <a href='vscode-notebook-cell:/Users/giuseppeesposito/Desktop/polito/secondo_anno/primo_semestre/computational_Intelligence/CILABs/lab1/lab1.ipynb#X24sZmlsZQ%3D%3D?line=13'>14</a>\u001b[0m     unit_cost\u001b[39m=\u001b[39;49munit_cost\n\u001b[1;32m     <a href='vscode-notebook-cell:/Users/giuseppeesposito/Desktop/polito/secondo_anno/primo_semestre/computational_Intelligence/CILABs/lab1/lab1.ipynb#X24sZmlsZQ%3D%3D?line=14'>15</a>\u001b[0m )\n",
      "\u001b[1;32m/Users/giuseppeesposito/Desktop/polito/secondo_anno/primo_semestre/computational_Intelligence/CILABs/lab1/lab1.ipynb Cell 6\u001b[0m in \u001b[0;36msearch\u001b[0;34m(blocks, initial_state, goal_test, parent_state, state_cost, priority_function, unit_cost)\u001b[0m\n\u001b[1;32m     <a href='vscode-notebook-cell:/Users/giuseppeesposito/Desktop/polito/secondo_anno/primo_semestre/computational_Intelligence/CILABs/lab1/lab1.ipynb#X24sZmlsZQ%3D%3D?line=13'>14</a>\u001b[0m parent_state[state] \u001b[39m=\u001b[39m \u001b[39mNone\u001b[39;00m\n\u001b[1;32m     <a href='vscode-notebook-cell:/Users/giuseppeesposito/Desktop/polito/secondo_anno/primo_semestre/computational_Intelligence/CILABs/lab1/lab1.ipynb#X24sZmlsZQ%3D%3D?line=14'>15</a>\u001b[0m state_cost[state] \u001b[39m=\u001b[39m \u001b[39m0\u001b[39m\n\u001b[0;32m---> <a href='vscode-notebook-cell:/Users/giuseppeesposito/Desktop/polito/secondo_anno/primo_semestre/computational_Intelligence/CILABs/lab1/lab1.ipynb#X24sZmlsZQ%3D%3D?line=15'>16</a>\u001b[0m \u001b[39mwhile\u001b[39;00m state \u001b[39mis\u001b[39;00m \u001b[39mnot\u001b[39;00m \u001b[39mNone\u001b[39;00m \u001b[39mand\u001b[39;00m \u001b[39mnot\u001b[39;00m goal_test(state, N):\n\u001b[1;32m     <a href='vscode-notebook-cell:/Users/giuseppeesposito/Desktop/polito/secondo_anno/primo_semestre/computational_Intelligence/CILABs/lab1/lab1.ipynb#X24sZmlsZQ%3D%3D?line=16'>17</a>\u001b[0m     \u001b[39mfor\u001b[39;00m a \u001b[39min\u001b[39;00m possible_blocks(blocks, state\u001b[39m.\u001b[39mdata\u001b[39m.\u001b[39mtolist()):\n\u001b[1;32m     <a href='vscode-notebook-cell:/Users/giuseppeesposito/Desktop/polito/secondo_anno/primo_semestre/computational_Intelligence/CILABs/lab1/lab1.ipynb#X24sZmlsZQ%3D%3D?line=17'>18</a>\u001b[0m         \u001b[39m# print(\"state:\", state)\u001b[39;00m\n\u001b[1;32m     <a href='vscode-notebook-cell:/Users/giuseppeesposito/Desktop/polito/secondo_anno/primo_semestre/computational_Intelligence/CILABs/lab1/lab1.ipynb#X24sZmlsZQ%3D%3D?line=18'>19</a>\u001b[0m         \u001b[39m# print(\"possible blocks:\", possible_blocks(blocks, state.data.tolist()))\u001b[39;00m\n\u001b[1;32m     <a href='vscode-notebook-cell:/Users/giuseppeesposito/Desktop/polito/secondo_anno/primo_semestre/computational_Intelligence/CILABs/lab1/lab1.ipynb#X24sZmlsZQ%3D%3D?line=19'>20</a>\u001b[0m         new_state \u001b[39m=\u001b[39m define_new_state(state\u001b[39m.\u001b[39mdata\u001b[39m.\u001b[39mtolist(), a)\n",
      "\u001b[1;32m/Users/giuseppeesposito/Desktop/polito/secondo_anno/primo_semestre/computational_Intelligence/CILABs/lab1/lab1.ipynb Cell 6\u001b[0m in \u001b[0;36mgoal_test\u001b[0;34m(state, N)\u001b[0m\n\u001b[1;32m     <a href='vscode-notebook-cell:/Users/giuseppeesposito/Desktop/polito/secondo_anno/primo_semestre/computational_Intelligence/CILABs/lab1/lab1.ipynb#X24sZmlsZQ%3D%3D?line=16'>17</a>\u001b[0m \u001b[39mfor\u001b[39;00m lst \u001b[39min\u001b[39;00m state_list:\n\u001b[1;32m     <a href='vscode-notebook-cell:/Users/giuseppeesposito/Desktop/polito/secondo_anno/primo_semestre/computational_Intelligence/CILABs/lab1/lab1.ipynb#X24sZmlsZQ%3D%3D?line=17'>18</a>\u001b[0m     \u001b[39mfor\u001b[39;00m s \u001b[39min\u001b[39;00m lst:\n\u001b[0;32m---> <a href='vscode-notebook-cell:/Users/giuseppeesposito/Desktop/polito/secondo_anno/primo_semestre/computational_Intelligence/CILABs/lab1/lab1.ipynb#X24sZmlsZQ%3D%3D?line=18'>19</a>\u001b[0m         new_list\u001b[39m.\u001b[39madd(s)\n\u001b[1;32m     <a href='vscode-notebook-cell:/Users/giuseppeesposito/Desktop/polito/secondo_anno/primo_semestre/computational_Intelligence/CILABs/lab1/lab1.ipynb#X24sZmlsZQ%3D%3D?line=19'>20</a>\u001b[0m \u001b[39mreturn\u001b[39;00m new_list \u001b[39m==\u001b[39m \u001b[39mset\u001b[39m(\u001b[39mrange\u001b[39m(N))\n",
      "\u001b[0;31mKeyboardInterrupt\u001b[0m: "
     ]
    }
   ],
   "source": [
    "parent_state = dict()\n",
    "state_cost = dict()\n",
    "for N in [20]:\n",
    "    blocks = problem(N, seed = 42)\n",
    "    print(f\"For N: {N}\")\n",
    "    print(blocks)\n",
    "    final = search(\n",
    "        sorted(blocks, key=lambda l: len(l)),\n",
    "        State(np.array([])),\n",
    "        goal_test=goal_test,\n",
    "        parent_state=parent_state,\n",
    "        state_cost=state_cost,\n",
    "        priority_function=lambda s: state_cost[s] + h(s, N),\n",
    "        unit_cost=unit_cost\n",
    "    )"
   ]
  },
  {
   "cell_type": "code",
   "execution_count": null,
   "metadata": {},
   "outputs": [],
   "source": []
  }
 ],
 "metadata": {
  "kernelspec": {
   "display_name": "Python 3.9.11 ('prj_quarto')",
   "language": "python",
   "name": "python3"
  },
  "language_info": {
   "codemirror_mode": {
    "name": "ipython",
    "version": 3
   },
   "file_extension": ".py",
   "mimetype": "text/x-python",
   "name": "python",
   "nbconvert_exporter": "python",
   "pygments_lexer": "ipython3",
   "version": "3.9.11"
  },
  "orig_nbformat": 4,
  "vscode": {
   "interpreter": {
    "hash": "a2e3e25d65b539032d7ede074f3d1877bf98d0b58bd5ff9d58e4c13a4105d93c"
   }
  }
 },
 "nbformat": 4,
 "nbformat_minor": 2
}
